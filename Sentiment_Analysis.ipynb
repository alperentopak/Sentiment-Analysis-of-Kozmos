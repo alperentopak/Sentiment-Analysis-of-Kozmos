{
 "cells": [
  {
   "cell_type": "markdown",
   "id": "aec7f436-fe02-4971-a92c-b84635bf74f2",
   "metadata": {},
   "source": [
    "## Kozmos Duygu Durum Analizi"
   ]
  },
  {
   "cell_type": "markdown",
   "id": "140506dc-65da-4c47-8a7f-7fddb46288c2",
   "metadata": {},
   "source": [
    "### Kütüphaneler"
   ]
  },
  {
   "cell_type": "code",
   "execution_count": 3,
   "id": "13f478df-b32c-47b5-bbd0-bd0d0a8a2c8d",
   "metadata": {},
   "outputs": [],
   "source": [
    "import numpy as np\n",
    "import pandas as pd\n",
    "import matplotlib.pyplot as plt\n",
    "import nltk\n",
    "from nltk.corpus import stopwords\n",
    "from textblob import Word, TextBlob\n",
    "from wordcloud import WordCloud\n",
    "from nltk.sentiment import SentimentIntensityAnalyzer\n",
    "from sklearn.preprocessing import LabelEncoder\n",
    "from sklearn.feature_extraction.text import CountVectorizer\n",
    "from sklearn.feature_extraction.text import TfidfVectorizer\n",
    "from sklearn.linear_model import LogisticRegression\n",
    "from sklearn.model_selection import cross_val_score, train_test_split\n",
    "from sklearn.metrics import classification_report\n",
    "from sklearn.ensemble import RandomForestClassifier\n",
    "\n",
    "import warnings\n",
    "warnings.filterwarnings('ignore')"
   ]
  },
  {
   "cell_type": "code",
   "execution_count": 4,
   "id": "0cb0219a-4691-4a7f-a586-9740788ffc60",
   "metadata": {},
   "outputs": [],
   "source": [
    "df = pd.read_excel('dataset/amazon.xlsx')"
   ]
  },
  {
   "cell_type": "code",
   "execution_count": 5,
   "id": "69587357-13b1-46a5-ba38-b63d44d1c88b",
   "metadata": {},
   "outputs": [
    {
     "data": {
      "text/html": [
       "<div>\n",
       "<style scoped>\n",
       "    .dataframe tbody tr th:only-of-type {\n",
       "        vertical-align: middle;\n",
       "    }\n",
       "\n",
       "    .dataframe tbody tr th {\n",
       "        vertical-align: top;\n",
       "    }\n",
       "\n",
       "    .dataframe thead th {\n",
       "        text-align: right;\n",
       "    }\n",
       "</style>\n",
       "<table border=\"1\" class=\"dataframe\">\n",
       "  <thead>\n",
       "    <tr style=\"text-align: right;\">\n",
       "      <th></th>\n",
       "      <th>Star</th>\n",
       "      <th>HelpFul</th>\n",
       "      <th>Title</th>\n",
       "      <th>Review</th>\n",
       "    </tr>\n",
       "  </thead>\n",
       "  <tbody>\n",
       "    <tr>\n",
       "      <th>0</th>\n",
       "      <td>5</td>\n",
       "      <td>0</td>\n",
       "      <td>looks great</td>\n",
       "      <td>Happy with it</td>\n",
       "    </tr>\n",
       "    <tr>\n",
       "      <th>1</th>\n",
       "      <td>5</td>\n",
       "      <td>0</td>\n",
       "      <td>Pattern did not align between the two panels.</td>\n",
       "      <td>Good quality material however the panels are m...</td>\n",
       "    </tr>\n",
       "    <tr>\n",
       "      <th>2</th>\n",
       "      <td>5</td>\n",
       "      <td>0</td>\n",
       "      <td>Imagery is stretched. Still fun.</td>\n",
       "      <td>Product was fun for bedroom windows.&lt;br /&gt;Imag...</td>\n",
       "    </tr>\n",
       "    <tr>\n",
       "      <th>3</th>\n",
       "      <td>5</td>\n",
       "      <td>0</td>\n",
       "      <td>Que se ven elegantes muy finas</td>\n",
       "      <td>Lo unico que me gustaria es que sean un poco ...</td>\n",
       "    </tr>\n",
       "    <tr>\n",
       "      <th>4</th>\n",
       "      <td>5</td>\n",
       "      <td>0</td>\n",
       "      <td>Wow great purchase</td>\n",
       "      <td>Great bang for the buck I can't believe the qu...</td>\n",
       "    </tr>\n",
       "  </tbody>\n",
       "</table>\n",
       "</div>"
      ],
      "text/plain": [
       "   Star  HelpFul                                          Title  \\\n",
       "0     5        0                                    looks great   \n",
       "1     5        0  Pattern did not align between the two panels.   \n",
       "2     5        0               Imagery is stretched. Still fun.   \n",
       "3     5        0                 Que se ven elegantes muy finas   \n",
       "4     5        0                             Wow great purchase   \n",
       "\n",
       "                                              Review  \n",
       "0                                      Happy with it  \n",
       "1  Good quality material however the panels are m...  \n",
       "2  Product was fun for bedroom windows.<br />Imag...  \n",
       "3   Lo unico que me gustaria es que sean un poco ...  \n",
       "4  Great bang for the buck I can't believe the qu...  "
      ]
     },
     "execution_count": 5,
     "metadata": {},
     "output_type": "execute_result"
    }
   ],
   "source": [
    "df.head()"
   ]
  },
  {
   "cell_type": "code",
   "execution_count": 6,
   "id": "70b382ff-334f-4322-b51d-aae173e0051a",
   "metadata": {},
   "outputs": [
    {
     "data": {
      "text/html": [
       "<div>\n",
       "<style scoped>\n",
       "    .dataframe tbody tr th:only-of-type {\n",
       "        vertical-align: middle;\n",
       "    }\n",
       "\n",
       "    .dataframe tbody tr th {\n",
       "        vertical-align: top;\n",
       "    }\n",
       "\n",
       "    .dataframe thead th {\n",
       "        text-align: right;\n",
       "    }\n",
       "</style>\n",
       "<table border=\"1\" class=\"dataframe\">\n",
       "  <thead>\n",
       "    <tr style=\"text-align: right;\">\n",
       "      <th></th>\n",
       "      <th>Star</th>\n",
       "      <th>HelpFul</th>\n",
       "      <th>Title</th>\n",
       "      <th>Review</th>\n",
       "    </tr>\n",
       "  </thead>\n",
       "  <tbody>\n",
       "    <tr>\n",
       "      <th>5606</th>\n",
       "      <td>4</td>\n",
       "      <td>0</td>\n",
       "      <td>Recommend</td>\n",
       "      <td>Great product for reasonable money.  Delivered...</td>\n",
       "    </tr>\n",
       "    <tr>\n",
       "      <th>5607</th>\n",
       "      <td>5</td>\n",
       "      <td>0</td>\n",
       "      <td>Terrible , different colors. I returned</td>\n",
       "      <td>Color is way off and panels do not match</td>\n",
       "    </tr>\n",
       "    <tr>\n",
       "      <th>5608</th>\n",
       "      <td>5</td>\n",
       "      <td>0</td>\n",
       "      <td>Extremely pleasing</td>\n",
       "      <td>These are great for my studio as they compleme...</td>\n",
       "    </tr>\n",
       "    <tr>\n",
       "      <th>5609</th>\n",
       "      <td>5</td>\n",
       "      <td>0</td>\n",
       "      <td>Perfect</td>\n",
       "      <td>Brought out the beauty in kids room. They love...</td>\n",
       "    </tr>\n",
       "    <tr>\n",
       "      <th>5610</th>\n",
       "      <td>4</td>\n",
       "      <td>0</td>\n",
       "      <td>Quality Curtains for the price</td>\n",
       "      <td>Very cute curtains in my sons room! Thick enou...</td>\n",
       "    </tr>\n",
       "  </tbody>\n",
       "</table>\n",
       "</div>"
      ],
      "text/plain": [
       "      Star  HelpFul                                    Title  \\\n",
       "5606     4        0                                Recommend   \n",
       "5607     5        0  Terrible , different colors. I returned   \n",
       "5608     5        0                       Extremely pleasing   \n",
       "5609     5        0                                  Perfect   \n",
       "5610     4        0           Quality Curtains for the price   \n",
       "\n",
       "                                                 Review  \n",
       "5606  Great product for reasonable money.  Delivered...  \n",
       "5607           Color is way off and panels do not match  \n",
       "5608  These are great for my studio as they compleme...  \n",
       "5609  Brought out the beauty in kids room. They love...  \n",
       "5610  Very cute curtains in my sons room! Thick enou...  "
      ]
     },
     "execution_count": 6,
     "metadata": {},
     "output_type": "execute_result"
    }
   ],
   "source": [
    "df.tail()"
   ]
  },
  {
   "cell_type": "code",
   "execution_count": 7,
   "id": "68c5f7f1-151a-417e-aace-0aa12aacc71c",
   "metadata": {},
   "outputs": [
    {
     "data": {
      "text/plain": [
       "(5611, 4)"
      ]
     },
     "execution_count": 7,
     "metadata": {},
     "output_type": "execute_result"
    }
   ],
   "source": [
    "df.shape"
   ]
  },
  {
   "cell_type": "markdown",
   "id": "fe303c70-9d63-46b1-a455-e76cf2f852e4",
   "metadata": {},
   "source": [
    "### 1.)Metin Ön İşleme"
   ]
  },
  {
   "cell_type": "code",
   "execution_count": 9,
   "id": "3ab2a8b8-27bb-485e-ae50-eddb0fce258e",
   "metadata": {},
   "outputs": [],
   "source": [
    "# Tüm harfleri küçük harfe çevirelim.\n",
    "df['Review'] = df['Review'].str.lower()"
   ]
  },
  {
   "cell_type": "code",
   "execution_count": 10,
   "id": "1a5c66ec-0a52-4623-820f-596a1a40fb2c",
   "metadata": {},
   "outputs": [],
   "source": [
    "# Noktalama işaretlerini çıkaralım.\n",
    "df['Review'] = df['Review'].str.replace(r'[^\\w\\s]', '', regex=True)"
   ]
  },
  {
   "cell_type": "code",
   "execution_count": 11,
   "id": "c6e2c26b-6c79-4559-8ade-9eac9b3c64ef",
   "metadata": {},
   "outputs": [],
   "source": [
    "# Sayısal ifadeleri çıkaralım.\n",
    "df['Review'] = df['Review'].str.replace(r'\\d+', '', regex=True)"
   ]
  },
  {
   "cell_type": "code",
   "execution_count": 12,
   "id": "5e318169-e2b4-4fbf-82b9-6db1d5611304",
   "metadata": {},
   "outputs": [],
   "source": [
    "# Stopwords seçip kaldıralım \n",
    "sw = stopwords.words('english')\n",
    "df['Review'] = df['Review'].apply(lambda x: ' '.join(x for x in str(x).split() if x not in sw))"
   ]
  },
  {
   "cell_type": "code",
   "execution_count": 13,
   "id": "9c0aeac2-bef4-45a1-ad30-af13ff7162f9",
   "metadata": {},
   "outputs": [],
   "source": [
    "# Rarewords seçip çıkaralım\n",
    "temp_df = pd.Series(' '.join(df['Review']).split()).value_counts()\n",
    "drops = temp_df[temp_df < 100]"
   ]
  },
  {
   "cell_type": "code",
   "execution_count": 14,
   "id": "3a895af3-678f-494f-8d67-2bcc70421d62",
   "metadata": {},
   "outputs": [
    {
     "data": {
      "text/plain": [
       "cool            99\n",
       "looked          98\n",
       "night           97\n",
       "hanging         97\n",
       "theme           96\n",
       "                ..\n",
       "neato            1\n",
       "decormatches     1\n",
       "thx              1\n",
       "pricebrid        1\n",
       "studioliving     1\n",
       "Name: count, Length: 6570, dtype: int64"
      ]
     },
     "execution_count": 14,
     "metadata": {},
     "output_type": "execute_result"
    }
   ],
   "source": [
    "drops"
   ]
  },
  {
   "cell_type": "code",
   "execution_count": 15,
   "id": "3a9dcba3-111c-4e58-93e1-41d45a97e6ca",
   "metadata": {},
   "outputs": [
    {
     "data": {
      "text/plain": [
       "curtains     1891\n",
       "love         1312\n",
       "room         1116\n",
       "like         1037\n",
       "beautiful     943\n",
       "             ... \n",
       "block         103\n",
       "though        103\n",
       "money         102\n",
       "order         101\n",
       "another       101\n",
       "Name: count, Length: 129, dtype: int64"
      ]
     },
     "execution_count": 15,
     "metadata": {},
     "output_type": "execute_result"
    }
   ],
   "source": [
    "temp_df[temp_df > 100]"
   ]
  },
  {
   "cell_type": "code",
   "execution_count": 16,
   "id": "ef0cc1be-5e1c-4345-965d-82d72a06f70d",
   "metadata": {},
   "outputs": [],
   "source": [
    "df['Review'] = df['Review'].apply(lambda x: ' '.join(x for x in x.split() if x not in drops))"
   ]
  },
  {
   "cell_type": "code",
   "execution_count": 17,
   "id": "642f8779-2dab-4f8b-9345-02041c3d5ad5",
   "metadata": {},
   "outputs": [],
   "source": [
    "# Lemmatization (köklerine ayırma) uygulayalım.\n",
    "df['Review'] = df['Review'].apply(lambda x: \" \".join([Word(word).lemmatize() for word in x.split()]))"
   ]
  },
  {
   "cell_type": "markdown",
   "id": "670a918a-da9a-464d-82f7-13daf978beef",
   "metadata": {},
   "source": [
    "### 2.)Metin Görselleştirme"
   ]
  },
  {
   "cell_type": "markdown",
   "id": "129005c4-5932-4dbf-a99e-ea410b9b746a",
   "metadata": {},
   "source": [
    "#### Terim Frekanslarının Hesaplanması"
   ]
  },
  {
   "cell_type": "code",
   "execution_count": 20,
   "id": "7d566743-60bc-4163-9254-a56db35ea7db",
   "metadata": {},
   "outputs": [],
   "source": [
    "tf = df['Review'].apply(lambda x: pd.value_counts(x.split(\" \"))).sum(axis = 0).reset_index()"
   ]
  },
  {
   "cell_type": "code",
   "execution_count": 21,
   "id": "eeba60ac-bc95-4ff6-8c9b-fc841e3e3abf",
   "metadata": {},
   "outputs": [
    {
     "data": {
      "text/html": [
       "<div>\n",
       "<style scoped>\n",
       "    .dataframe tbody tr th:only-of-type {\n",
       "        vertical-align: middle;\n",
       "    }\n",
       "\n",
       "    .dataframe tbody tr th {\n",
       "        vertical-align: top;\n",
       "    }\n",
       "\n",
       "    .dataframe thead th {\n",
       "        text-align: right;\n",
       "    }\n",
       "</style>\n",
       "<table border=\"1\" class=\"dataframe\">\n",
       "  <thead>\n",
       "    <tr style=\"text-align: right;\">\n",
       "      <th></th>\n",
       "      <th>index</th>\n",
       "      <th>0</th>\n",
       "    </tr>\n",
       "  </thead>\n",
       "  <tbody>\n",
       "    <tr>\n",
       "      <th>0</th>\n",
       "      <td>happy</td>\n",
       "      <td>196.0</td>\n",
       "    </tr>\n",
       "    <tr>\n",
       "      <th>1</th>\n",
       "      <td>good</td>\n",
       "      <td>535.0</td>\n",
       "    </tr>\n",
       "    <tr>\n",
       "      <th>2</th>\n",
       "      <td>quality</td>\n",
       "      <td>889.0</td>\n",
       "    </tr>\n",
       "    <tr>\n",
       "      <th>3</th>\n",
       "      <td>material</td>\n",
       "      <td>561.0</td>\n",
       "    </tr>\n",
       "    <tr>\n",
       "      <th>4</th>\n",
       "      <td>panel</td>\n",
       "      <td>226.0</td>\n",
       "    </tr>\n",
       "  </tbody>\n",
       "</table>\n",
       "</div>"
      ],
      "text/plain": [
       "      index      0\n",
       "0     happy  196.0\n",
       "1      good  535.0\n",
       "2   quality  889.0\n",
       "3  material  561.0\n",
       "4     panel  226.0"
      ]
     },
     "execution_count": 21,
     "metadata": {},
     "output_type": "execute_result"
    }
   ],
   "source": [
    "tf.head()"
   ]
  },
  {
   "cell_type": "code",
   "execution_count": 22,
   "id": "ce54f06c-d79b-425b-8ac9-595ae810c2e7",
   "metadata": {},
   "outputs": [],
   "source": [
    "tf.columns = ['words', 'tf']"
   ]
  },
  {
   "cell_type": "code",
   "execution_count": 23,
   "id": "22d29236-1162-4819-9d3a-bba689327fcf",
   "metadata": {},
   "outputs": [
    {
     "data": {
      "text/html": [
       "<div>\n",
       "<style scoped>\n",
       "    .dataframe tbody tr th:only-of-type {\n",
       "        vertical-align: middle;\n",
       "    }\n",
       "\n",
       "    .dataframe tbody tr th {\n",
       "        vertical-align: top;\n",
       "    }\n",
       "\n",
       "    .dataframe thead th {\n",
       "        text-align: right;\n",
       "    }\n",
       "</style>\n",
       "<table border=\"1\" class=\"dataframe\">\n",
       "  <thead>\n",
       "    <tr style=\"text-align: right;\">\n",
       "      <th></th>\n",
       "      <th>words</th>\n",
       "      <th>tf</th>\n",
       "    </tr>\n",
       "  </thead>\n",
       "  <tbody>\n",
       "    <tr>\n",
       "      <th>0</th>\n",
       "      <td>happy</td>\n",
       "      <td>196.0</td>\n",
       "    </tr>\n",
       "    <tr>\n",
       "      <th>1</th>\n",
       "      <td>good</td>\n",
       "      <td>535.0</td>\n",
       "    </tr>\n",
       "    <tr>\n",
       "      <th>2</th>\n",
       "      <td>quality</td>\n",
       "      <td>889.0</td>\n",
       "    </tr>\n",
       "    <tr>\n",
       "      <th>3</th>\n",
       "      <td>material</td>\n",
       "      <td>561.0</td>\n",
       "    </tr>\n",
       "    <tr>\n",
       "      <th>4</th>\n",
       "      <td>panel</td>\n",
       "      <td>226.0</td>\n",
       "    </tr>\n",
       "  </tbody>\n",
       "</table>\n",
       "</div>"
      ],
      "text/plain": [
       "      words     tf\n",
       "0     happy  196.0\n",
       "1      good  535.0\n",
       "2   quality  889.0\n",
       "3  material  561.0\n",
       "4     panel  226.0"
      ]
     },
     "execution_count": 23,
     "metadata": {},
     "output_type": "execute_result"
    }
   ],
   "source": [
    "tf.head()"
   ]
  },
  {
   "cell_type": "markdown",
   "id": "5e21815b-5847-4de5-9461-34e26aa97425",
   "metadata": {},
   "source": [
    "#### Barplot"
   ]
  },
  {
   "cell_type": "code",
   "execution_count": 25,
   "id": "d647c7c0-06b7-457a-8a80-1655b885cdfd",
   "metadata": {},
   "outputs": [
    {
     "data": {
      "image/png": "[encoded data removed]",
      "text/plain": [
       "<Figure size 640x480 with 1 Axes>"
      ]
     },
     "metadata": {},
     "output_type": "display_data"
    }
   ],
   "source": [
    "tf[tf['tf'] > 500].plot.bar(x = 'words', y = 'tf')\n",
    "plt.show()"
   ]
  },
  {
   "cell_type": "markdown",
   "id": "7d17db7c-609f-4a95-9087-584a82cb3cee",
   "metadata": {},
   "source": [
    "#### WordCloud"
   ]
  },
  {
   "cell_type": "markdown",
   "id": "7300cbb4-ebef-4ed6-a3f3-2423357e19c2",
   "metadata": {},
   "source": [
    "WordCloud ile görselleştirmek için, tüm metni tek bir string'e çevirmeliyiz."
   ]
  },
  {
   "cell_type": "code",
   "execution_count": 28,
   "id": "6e112162-3232-4063-87c4-c0d3d1acdabf",
   "metadata": {},
   "outputs": [],
   "source": [
    "text = ' '.join(x for x in df['Review'])"
   ]
  },
  {
   "cell_type": "code",
   "execution_count": 30,
   "id": "45ff1e13-3666-4e5b-abde-bb757c5c2c16",
   "metadata": {},
   "outputs": [],
   "source": [
    "wordcloud = WordCloud(max_font_size = 50,\n",
    "                      max_words = 100,\n",
    "                      background_color = 'white').generate(text)\n"
   ]
  },
  {
   "cell_type": "code",
   "execution_count": 31,
   "id": "6d5f55dc-d608-46dc-b49c-6d5ed39487d6",
   "metadata": {},
   "outputs": [
    {
     "data": {
      "image/png": "[encoded data removed]",
      "text/plain": [
       "<Figure size 640x480 with 1 Axes>"
      ]
     },
     "metadata": {},
     "output_type": "display_data"
    }
   ],
   "source": [
    "plt.imshow(wordcloud, interpolation='bilinear')\n",
    "plt.axis('off')\n",
    "plt.show()"
   ]
  },
  {
   "cell_type": "markdown",
   "id": "3f430c34-a22d-4fbb-b8ab-db34c63d1d39",
   "metadata": {},
   "source": [
    "### 3.)Duygu Durum Analizi"
   ]
  },
  {
   "cell_type": "markdown",
   "id": "ba610a89-a7d1-47e3-bc2f-5a28d706421c",
   "metadata": {},
   "source": [
    "Elimizde olan metinlerin taşıdığı duygu durumunu matematiksel olarak ifade etme yöntemidir.\n"
   ]
  },
  {
   "cell_type": "code",
   "execution_count": 34,
   "id": "34dfbae6-3efd-46a0-af98-47205de8564b",
   "metadata": {},
   "outputs": [],
   "source": [
    "sia = SentimentIntensityAnalyzer()"
   ]
  },
  {
   "cell_type": "code",
   "execution_count": 35,
   "id": "43cc0647-4d4e-479c-9e83-03d158302647",
   "metadata": {},
   "outputs": [
    {
     "data": {
      "text/plain": [
       "0    0.5719\n",
       "1    0.4404\n",
       "2    0.0000\n",
       "3    0.0000\n",
       "4    0.3235\n",
       "5    0.0000\n",
       "6    0.6249\n",
       "7    0.7778\n",
       "8    0.0000\n",
       "9    0.7096\n",
       "Name: Review, dtype: float64"
      ]
     },
     "execution_count": 35,
     "metadata": {},
     "output_type": "execute_result"
    }
   ],
   "source": [
    "# \"Review\" değişkeninin ilk 10 gözlemi için polarity_scores() hesaplayalım.\n",
    "df['Review'].iloc[0:10,].apply(lambda x: sia.polarity_scores(x)['compound'])"
   ]
  },
  {
   "cell_type": "code",
   "execution_count": 36,
   "id": "6ec92291-252e-4e33-a2e1-1b9592882fc9",
   "metadata": {},
   "outputs": [],
   "source": [
    "# Bu işlemi tüm veriye uygulayalım ve bir değişken oluşturalım.\n",
    "df['polarity_scores'] = df['Review'].apply(lambda x: sia.polarity_scores(x)['compound'])"
   ]
  },
  {
   "cell_type": "code",
   "execution_count": 37,
   "id": "af412dcf-cb0c-4831-89d6-acbd7a2b34f9",
   "metadata": {},
   "outputs": [
    {
     "data": {
      "text/plain": [
       "0       0.5719\n",
       "1       0.4404\n",
       "2       0.0000\n",
       "3       0.0000\n",
       "4       0.3235\n",
       "         ...  \n",
       "5606    0.7650\n",
       "5607    0.0000\n",
       "5608    0.7906\n",
       "5609    0.6369\n",
       "5610    0.0000\n",
       "Name: polarity_scores, Length: 5611, dtype: float64"
      ]
     },
     "execution_count": 37,
     "metadata": {},
     "output_type": "execute_result"
    }
   ],
   "source": [
    "df['polarity_scores']"
   ]
  },
  {
   "cell_type": "code",
   "execution_count": 38,
   "id": "6dfff098-e4db-4aa2-b16b-f8451a411928",
   "metadata": {},
   "outputs": [],
   "source": [
    "df['label'] = df['polarity_scores'].apply(lambda x: 'pos' if x > 0 else 'neg') "
   ]
  },
  {
   "cell_type": "code",
   "execution_count": 39,
   "id": "cf7bb0c6-e46c-4b8d-bb4e-fc4dc2e7641b",
   "metadata": {},
   "outputs": [
    {
     "data": {
      "text/plain": [
       "0       pos\n",
       "1       pos\n",
       "2       neg\n",
       "3       neg\n",
       "4       pos\n",
       "       ... \n",
       "5606    pos\n",
       "5607    neg\n",
       "5608    pos\n",
       "5609    pos\n",
       "5610    neg\n",
       "Name: label, Length: 5611, dtype: object"
      ]
     },
     "execution_count": 39,
     "metadata": {},
     "output_type": "execute_result"
    }
   ],
   "source": [
    "df['label']"
   ]
  },
  {
   "cell_type": "code",
   "execution_count": 40,
   "id": "df016028-7789-4781-9063-b7eb1d66e12b",
   "metadata": {},
   "outputs": [
    {
     "data": {
      "text/plain": [
       "label\n",
       "neg    3.845258\n",
       "pos    4.559084\n",
       "Name: Star, dtype: float64"
      ]
     },
     "execution_count": 40,
     "metadata": {},
     "output_type": "execute_result"
    }
   ],
   "source": [
    "df.groupby('label')['Star'].mean()"
   ]
  },
  {
   "cell_type": "markdown",
   "id": "f6eb8835-845f-4e2a-9528-c07d8a8f2210",
   "metadata": {},
   "source": [
    "### 4.)Modellemeye Hazırlık"
   ]
  },
  {
   "cell_type": "markdown",
   "id": "5c9d2096-5ac6-40be-a887-a71d73c2b806",
   "metadata": {},
   "source": [
    "Makine öğrenmesi modelleri sayısal ifadelerle çalıştığı için metinleri farklı yöntemlerle sayısal ifadelere çevirip, model için hazırlamalıyız."
   ]
  },
  {
   "cell_type": "code",
   "execution_count": 43,
   "id": "3e19da7d-9170-46be-964d-eae86630b8ff",
   "metadata": {},
   "outputs": [],
   "source": [
    "df['label'] = LabelEncoder().fit_transform(df['label'])"
   ]
  },
  {
   "cell_type": "code",
   "execution_count": 44,
   "id": "0337110d-63f1-48b8-9350-11ab59b9e4a4",
   "metadata": {},
   "outputs": [
    {
     "data": {
      "text/plain": [
       "0       1\n",
       "1       1\n",
       "2       0\n",
       "3       0\n",
       "4       1\n",
       "       ..\n",
       "5606    1\n",
       "5607    0\n",
       "5608    1\n",
       "5609    1\n",
       "5610    0\n",
       "Name: label, Length: 5611, dtype: int32"
      ]
     },
     "execution_count": 44,
     "metadata": {},
     "output_type": "execute_result"
    }
   ],
   "source": [
    "df['label']"
   ]
  },
  {
   "cell_type": "code",
   "execution_count": 45,
   "id": "5a4410b4-9085-4149-b726-00c742bb864b",
   "metadata": {},
   "outputs": [],
   "source": [
    "X = df['Review']\n",
    "y = df['label']"
   ]
  },
  {
   "cell_type": "code",
   "execution_count": 46,
   "id": "afb51ac0-dfa8-445c-94c3-ae796747cb98",
   "metadata": {},
   "outputs": [],
   "source": [
    "X_train, X_test, y_train, y_test = train_test_split(X, y, test_size = 0.2 ,random_state = 42)"
   ]
  },
  {
   "cell_type": "markdown",
   "id": "3be4f7f8-87a0-4a75-98b1-3a969a91ff61",
   "metadata": {},
   "source": [
    "#### Count Vectorizer"
   ]
  },
  {
   "cell_type": "code",
   "execution_count": 48,
   "id": "261ea599-6c19-4043-a74a-a1688d88220e",
   "metadata": {},
   "outputs": [],
   "source": [
    "vectorizer = CountVectorizer()\n",
    "X_count_train = vectorizer.fit_transform(X_train)\n",
    "X_count_test = vectorizer.transform(X_test)"
   ]
  },
  {
   "cell_type": "markdown",
   "id": "622a40ab-f0a1-467b-a45f-a1afa0d94254",
   "metadata": {},
   "source": [
    "#### TF-IDF Vectorizer"
   ]
  },
  {
   "cell_type": "code",
   "execution_count": 50,
   "id": "42d18b2d-393f-40ac-9337-0d1846838f0f",
   "metadata": {},
   "outputs": [],
   "source": [
    "# Kelimelere göre\n",
    "tf_idf_word_vectorizer = TfidfVectorizer()\n",
    "X_tf_idf_word_train = tf_idf_word_vectorizer.fit_transform(X_train)\n",
    "X_tf_idf_word_test = tf_idf_word_vectorizer.transform(X_test)\n",
    "\n",
    "# n-gram'a göre\n",
    "tf_idf_ngram_vectorizer = TfidfVectorizer(ngram_range=(2,3))\n",
    "X_tf_ngram_word_train = tf_idf_ngram_vectorizer.fit_transform(X_train)\n",
    "X_tf_ngram_word_test = tf_idf_ngram_vectorizer.transform(X_test)"
   ]
  },
  {
   "cell_type": "markdown",
   "id": "78358de7-01c7-4631-a4f6-d5f244a60663",
   "metadata": {},
   "source": [
    "X yani bağımsız değişkeni, makinenin anlayacağı 3 farklı şekile getirdik. <br>\n",
    ".    X_count <br> \n",
    ".    X_tf_idf_word <br>\n",
    ".    X_tf_ngram_word <br>\n",
    "Şimdi bunları modelde deneyerek en iyisinin hangisi olduğunu belirleyelim.."
   ]
  },
  {
   "cell_type": "markdown",
   "id": "665b31fa-74d8-4ea3-9c4b-f3ce7f4d7fd7",
   "metadata": {},
   "source": [
    "### 5.)Modelleme"
   ]
  },
  {
   "cell_type": "markdown",
   "id": "6c7b5c9a-4a9c-4ce6-bd5b-25c62b2dfacc",
   "metadata": {},
   "source": [
    "#### Logistic Regression"
   ]
  },
  {
   "cell_type": "code",
   "execution_count": 54,
   "id": "95c24b60-03cf-4931-a566-59bd3df30dd0",
   "metadata": {},
   "outputs": [],
   "source": [
    "lr_model = LogisticRegression().fit(X_count_train, y_train)"
   ]
  },
  {
   "cell_type": "code",
   "execution_count": 55,
   "id": "30afe5d4-3ada-4af1-9a64-8eeb93654685",
   "metadata": {},
   "outputs": [],
   "source": [
    "y_pred = lr_model.predict(X_count_test)"
   ]
  },
  {
   "cell_type": "code",
   "execution_count": 56,
   "id": "88b4b0d4-9259-46d7-a2eb-d382f8f0edcf",
   "metadata": {},
   "outputs": [
    {
     "name": "stdout",
     "output_type": "stream",
     "text": [
      "              precision    recall  f1-score   support\n",
      "\n",
      "           0       0.95      0.96      0.95       244\n",
      "           1       0.99      0.99      0.99       879\n",
      "\n",
      "    accuracy                           0.98      1123\n",
      "   macro avg       0.97      0.97      0.97      1123\n",
      "weighted avg       0.98      0.98      0.98      1123\n",
      "\n"
     ]
    }
   ],
   "source": [
    "print(classification_report(y_test, y_pred))"
   ]
  },
  {
   "cell_type": "code",
   "execution_count": 57,
   "id": "c4013484-fd2e-4cc6-84ac-9f71bcaa468b",
   "metadata": {},
   "outputs": [
    {
     "data": {
      "text/plain": [
       "0.980390214349738"
      ]
     },
     "execution_count": 57,
     "metadata": {},
     "output_type": "execute_result"
    }
   ],
   "source": [
    "cross_val_score(lr_model,\n",
    "                X_count_train,\n",
    "                y_train, scoring='accuracy',\n",
    "                cv = 5).mean()"
   ]
  },
  {
   "cell_type": "code",
   "execution_count": 58,
   "id": "a455a20a-0a4f-439a-adb7-85c52df467ae",
   "metadata": {},
   "outputs": [],
   "source": [
    "lr_model2 = LogisticRegression().fit(X_tf_idf_word_train, y_train)"
   ]
  },
  {
   "cell_type": "code",
   "execution_count": 59,
   "id": "dfa403cb-2b2e-4951-b796-ce0fb004ec83",
   "metadata": {},
   "outputs": [],
   "source": [
    "y_pred2 = lr_model2.predict(X_tf_idf_word_test)"
   ]
  },
  {
   "cell_type": "code",
   "execution_count": 60,
   "id": "0695f344-af42-4ef8-9789-4229b77e0016",
   "metadata": {},
   "outputs": [
    {
     "name": "stdout",
     "output_type": "stream",
     "text": [
      "              precision    recall  f1-score   support\n",
      "\n",
      "           0       0.97      0.93      0.95       244\n",
      "           1       0.98      0.99      0.99       879\n",
      "\n",
      "    accuracy                           0.98      1123\n",
      "   macro avg       0.98      0.96      0.97      1123\n",
      "weighted avg       0.98      0.98      0.98      1123\n",
      "\n"
     ]
    }
   ],
   "source": [
    "print(classification_report(y_test, y_pred2))"
   ]
  },
  {
   "cell_type": "code",
   "execution_count": 61,
   "id": "fc5a972b-a3f6-4358-bf34-617c3f536038",
   "metadata": {},
   "outputs": [
    {
     "data": {
      "text/plain": [
       "0.9728143552003337"
      ]
     },
     "execution_count": 61,
     "metadata": {},
     "output_type": "execute_result"
    }
   ],
   "source": [
    "cross_val_score(lr_model2,\n",
    "                X_tf_idf_word_train,\n",
    "                y_train, scoring='accuracy',\n",
    "                cv = 5).mean()"
   ]
  },
  {
   "cell_type": "code",
   "execution_count": 62,
   "id": "3d3b9888-3a88-4b07-af06-357bbfe17fbb",
   "metadata": {},
   "outputs": [],
   "source": [
    "lr_model3 = LogisticRegression().fit(X_tf_ngram_word_train, y_train)"
   ]
  },
  {
   "cell_type": "code",
   "execution_count": 63,
   "id": "3b5a0484-ac7b-464e-b86e-e3dada8c955c",
   "metadata": {},
   "outputs": [],
   "source": [
    "y_pred3 = lr_model3.predict(X_tf_ngram_word_test)"
   ]
  },
  {
   "cell_type": "code",
   "execution_count": 64,
   "id": "424f73f2-bffd-4438-baeb-12c29412ea5c",
   "metadata": {},
   "outputs": [
    {
     "name": "stdout",
     "output_type": "stream",
     "text": [
      "              precision    recall  f1-score   support\n",
      "\n",
      "           0       1.00      0.02      0.04       244\n",
      "           1       0.79      1.00      0.88       879\n",
      "\n",
      "    accuracy                           0.79      1123\n",
      "   macro avg       0.89      0.51      0.46      1123\n",
      "weighted avg       0.83      0.79      0.70      1123\n",
      "\n"
     ]
    }
   ],
   "source": [
    "print(classification_report(y_test, y_pred3))"
   ]
  },
  {
   "cell_type": "code",
   "execution_count": 65,
   "id": "9f723014-74b1-4f60-b41b-6d5add8f97a7",
   "metadata": {},
   "outputs": [
    {
     "data": {
      "text/plain": [
       "0.7889927573475554"
      ]
     },
     "execution_count": 65,
     "metadata": {},
     "output_type": "execute_result"
    }
   ],
   "source": [
    "cross_val_score(lr_model3,\n",
    "                X_tf_ngram_word_train,\n",
    "                y_train, scoring='accuracy',\n",
    "                cv = 5).mean()"
   ]
  },
  {
   "cell_type": "markdown",
   "id": "24c07432-babb-40b6-9c4c-662eaa567c84",
   "metadata": {},
   "source": [
    "En yüksek accuracy değerine sahip olanı seçerek işlemlerimize devam edelim."
   ]
  },
  {
   "cell_type": "code",
   "execution_count": 67,
   "id": "a6a7b9f2-9d76-4b7e-8027-ab6ec61b1a27",
   "metadata": {},
   "outputs": [],
   "source": [
    "random_review = pd.Series(df['Review'].sample(1).values)"
   ]
  },
  {
   "cell_type": "code",
   "execution_count": 68,
   "id": "35c02ad0-4274-4f82-be38-fb47dd52c1ea",
   "metadata": {},
   "outputs": [],
   "source": [
    "random_review_transformed = CountVectorizer().fit(X_train).transform(random_review)"
   ]
  },
  {
   "cell_type": "code",
   "execution_count": 69,
   "id": "26dc773e-0c69-465b-a26e-b2bc8aae0005",
   "metadata": {},
   "outputs": [
    {
     "name": "stdout",
     "output_type": "stream",
     "text": [
      "Yorum : ['beautiful exactly']\n",
      "Tahmin edilen sınıf: [1]\n"
     ]
    }
   ],
   "source": [
    "print('Yorum :', random_review.values)\n",
    "print('Tahmin edilen sınıf:', lr_model.predict(random_review_transformed))"
   ]
  },
  {
   "cell_type": "markdown",
   "id": "225befe5-dd5c-4ef9-8fef-216b9f5584e7",
   "metadata": {},
   "source": [
    "#### RandomForest"
   ]
  },
  {
   "cell_type": "code",
   "execution_count": 71,
   "id": "7a05a2a9-e40d-45e4-8f6a-20b825130050",
   "metadata": {},
   "outputs": [],
   "source": [
    "rf_model = RandomForestClassifier().fit(X_count_train, y_train)"
   ]
  },
  {
   "cell_type": "code",
   "execution_count": 72,
   "id": "23928fa6-cac3-48ec-82c3-5d14623aee83",
   "metadata": {},
   "outputs": [],
   "source": [
    "y_pred4 =rf_model.predict(X_count_test)"
   ]
  },
  {
   "cell_type": "code",
   "execution_count": 73,
   "id": "b66233e5-c3ae-49b9-9033-c7b99173e436",
   "metadata": {},
   "outputs": [
    {
     "data": {
      "text/plain": [
       "0.9826198687533054"
      ]
     },
     "execution_count": 73,
     "metadata": {},
     "output_type": "execute_result"
    }
   ],
   "source": [
    "cross_val_score(rf_model,\n",
    "                X_count_train,\n",
    "                y_train, scoring='accuracy',\n",
    "                cv = 5).mean()"
   ]
  },
  {
   "cell_type": "code",
   "execution_count": 74,
   "id": "ee0f51c8-bb9b-48f8-a4f3-51994badc780",
   "metadata": {},
   "outputs": [
    {
     "name": "stdout",
     "output_type": "stream",
     "text": [
      "Yorum : ['beautiful exactly']\n",
      "Tahmin edilen sınıf: [1]\n"
     ]
    }
   ],
   "source": [
    "print('Yorum :', random_review.values)\n",
    "print('Tahmin edilen sınıf:', rf_model.predict(random_review_transformed))"
   ]
  }
 ],
 "metadata": {
  "kernelspec": {
   "display_name": "Python 3 (ipykernel)",
   "language": "python",
   "name": "python3"
  },
  "language_info": {
   "codemirror_mode": {
    "name": "ipython",
    "version": 3
   },
   "file_extension": ".py",
   "mimetype": "text/x-python",
   "name": "python",
   "nbconvert_exporter": "python",
   "pygments_lexer": "ipython3",
   "version": "3.12.4"
  }
 },
 "nbformat": 4,
 "nbformat_minor": 5
}
